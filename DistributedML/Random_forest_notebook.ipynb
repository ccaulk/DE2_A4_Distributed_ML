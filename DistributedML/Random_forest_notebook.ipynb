{
 "cells": [
  {
   "cell_type": "code",
   "execution_count": 2,
   "id": "aa423642-9264-43dc-80bd-c4171e1f4408",
   "metadata": {},
   "outputs": [],
   "source": [
    "from sklearn.datasets import fetch_covtype\n",
    "from sklearn.ensemble import RandomForestClassifier\n",
    "from sklearn.model_selection import GridSearchCV"
   ]
  },
  {
   "cell_type": "code",
   "execution_count": null,
   "id": "cc20ae1e-5ac3-4b57-8767-c500d628543a",
   "metadata": {},
   "outputs": [],
   "source": [
    "#fetching the data\n",
    "cov_type = fetch_covtype(data_home = \"/home/ubuntu/scikit_learn_data/covertype/tmpq1hbmnr4\")\n",
    "shape(cov_type.data.shape)"
   ]
  },
  {
   "cell_type": "code",
   "execution_count": null,
   "id": "27b8cb81-7fd4-4fdc-b559-9bd8127a7058",
   "metadata": {},
   "outputs": [],
   "source": []
  }
 ],
 "metadata": {
  "kernelspec": {
   "display_name": "Python 3 (ipykernel)",
   "language": "python",
   "name": "python3"
  },
  "language_info": {
   "codemirror_mode": {
    "name": "ipython",
    "version": 3
   },
   "file_extension": ".py",
   "mimetype": "text/x-python",
   "name": "python",
   "nbconvert_exporter": "python",
   "pygments_lexer": "ipython3",
   "version": "3.10.12"
  }
 },
 "nbformat": 4,
 "nbformat_minor": 5
}
