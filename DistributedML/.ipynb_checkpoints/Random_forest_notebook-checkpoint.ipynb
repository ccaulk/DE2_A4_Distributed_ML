{
 "cells": [
  {
   "cell_type": "code",
   "execution_count": 1,
   "id": "aa423642-9264-43dc-80bd-c4171e1f4408",
   "metadata": {},
   "outputs": [],
   "source": [
    "import numpy as np\n",
    "import time\n",
    "from sklearn.datasets import fetch_covtype\n",
    "from sklearn.ensemble import RandomForestClassifier\n",
    "from sklearn.model_selection import cross_val_score"
   ]
  },
  {
   "cell_type": "code",
   "execution_count": 2,
   "id": "cc20ae1e-5ac3-4b57-8767-c500d628543a",
   "metadata": {},
   "outputs": [
    {
     "data": {
      "text/plain": [
       "(581012, 54)"
      ]
     },
     "execution_count": 2,
     "metadata": {},
     "output_type": "execute_result"
    }
   ],
   "source": [
    "#fetching the data\n",
    "cov_type = fetch_covtype()\n",
    "cov_type.data.shape"
   ]
  },
  {
   "cell_type": "code",
   "execution_count": 3,
   "id": "27b8cb81-7fd4-4fdc-b559-9bd8127a7058",
   "metadata": {},
   "outputs": [
    {
     "data": {
      "text/plain": [
       "(581012,)"
      ]
     },
     "execution_count": 3,
     "metadata": {},
     "output_type": "execute_result"
    }
   ],
   "source": [
    "cov_type.target.shape"
   ]
  },
  {
   "cell_type": "code",
   "execution_count": 4,
   "id": "6127f2a8-6cb8-4b9f-90a6-50e89ca7c8b2",
   "metadata": {},
   "outputs": [],
   "source": [
    "X = cov_type.data\n",
    "Y = cov_type.target"
   ]
  },
  {
   "cell_type": "code",
   "execution_count": null,
   "id": "39d8d180-3330-490f-89d8-df655fb19059",
   "metadata": {},
   "outputs": [],
   "source": [
    "#training a Random forest\n",
    "start = time.time()\n",
    "model = RandomForestClassifier()\n",
    "scores = cross_val_score(model, X, Y, cv=3)\n",
    "accuracy = np.mean(scores)\n",
    "end = time.time()"
   ]
  },
  {
   "cell_type": "code",
   "execution_count": null,
   "id": "029f4e48-b2e1-4c76-8537-d8711449d77a",
   "metadata": {},
   "outputs": [],
   "source": [
    "model.get_params()"
   ]
  },
  {
   "cell_type": "code",
   "execution_count": null,
   "id": "f7d97ec3-851b-4968-b6f1-4e0f6faaeb9a",
   "metadata": {},
   "outputs": [],
   "source": [
    "print(\"Cross Validation Average Accuracy with no hyperparameter tunning: \", accuracy)\n",
    "print(\"And it took: \", end-start, \" seconds\")"
   ]
  },
  {
   "cell_type": "code",
   "execution_count": null,
   "id": "0d0b5d70-6dc1-4660-ac0b-fcc2c540d4c4",
   "metadata": {},
   "outputs": [],
   "source": []
  }
 ],
 "metadata": {
  "kernelspec": {
   "display_name": "Python 3 (ipykernel)",
   "language": "python",
   "name": "python3"
  },
  "language_info": {
   "codemirror_mode": {
    "name": "ipython",
    "version": 3
   },
   "file_extension": ".py",
   "mimetype": "text/x-python",
   "name": "python",
   "nbconvert_exporter": "python",
   "pygments_lexer": "ipython3",
   "version": "3.10.12"
  }
 },
 "nbformat": 4,
 "nbformat_minor": 5
}
